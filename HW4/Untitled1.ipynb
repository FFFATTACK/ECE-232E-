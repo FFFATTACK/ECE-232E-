{
 "cells": [
  {
   "cell_type": "code",
   "execution_count": 1,
   "metadata": {},
   "outputs": [
    {
     "name": "stderr",
     "output_type": "stream",
     "text": [
      "\n",
      "Attaching package: 'igraph'\n",
      "\n",
      "The following objects are masked from 'package:stats':\n",
      "\n",
      "    decompose, spectrum\n",
      "\n",
      "The following object is masked from 'package:base':\n",
      "\n",
      "    union\n",
      "\n"
     ]
    }
   ],
   "source": [
    "library(igraph)\n",
    "\n",
    "\n",
    "g <- graph.ring(10)\n",
    "g <- set.edge.attribute(g, \"weight\", value=runif(ecount(g)))"
   ]
  },
  {
   "cell_type": "code",
   "execution_count": 2,
   "metadata": {},
   "outputs": [
    {
     "data": {
      "image/png": "[encoded data removed]",
      "text/plain": [
       "Plot with title \"\""
      ]
     },
     "metadata": {},
     "output_type": "display_data"
    }
   ],
   "source": [
    "plot(g)"
   ]
  },
  {
   "cell_type": "code",
   "execution_count": 3,
   "metadata": {},
   "outputs": [
    {
     "data": {
      "text/html": [
       "<ol class=list-inline>\n",
       "\t<li>0.460114242741838</li>\n",
       "\t<li>0.652718227123842</li>\n",
       "\t<li>0.404983769636601</li>\n",
       "\t<li>0.610654219519347</li>\n",
       "\t<li>0.466045278357342</li>\n",
       "\t<li>0.124614897649735</li>\n",
       "\t<li>0.360307667870075</li>\n",
       "\t<li>0.692631115904078</li>\n",
       "\t<li>0.294744384475052</li>\n",
       "\t<li>0.370027345139533</li>\n",
       "</ol>\n"
      ],
      "text/latex": [
       "\\begin{enumerate*}\n",
       "\\item 0.460114242741838\n",
       "\\item 0.652718227123842\n",
       "\\item 0.404983769636601\n",
       "\\item 0.610654219519347\n",
       "\\item 0.466045278357342\n",
       "\\item 0.124614897649735\n",
       "\\item 0.360307667870075\n",
       "\\item 0.692631115904078\n",
       "\\item 0.294744384475052\n",
       "\\item 0.370027345139533\n",
       "\\end{enumerate*}\n"
      ],
      "text/markdown": [
       "1. 0.460114242741838\n",
       "2. 0.652718227123842\n",
       "3. 0.404983769636601\n",
       "4. 0.610654219519347\n",
       "5. 0.466045278357342\n",
       "6. 0.124614897649735\n",
       "7. 0.360307667870075\n",
       "8. 0.692631115904078\n",
       "9. 0.294744384475052\n",
       "10. 0.370027345139533\n",
       "\n",
       "\n"
      ],
      "text/plain": [
       " [1] 0.4601142 0.6527182 0.4049838 0.6106542 0.4660453 0.1246149 0.3603077\n",
       " [8] 0.6926311 0.2947444 0.3700273"
      ]
     },
     "metadata": {},
     "output_type": "display_data"
    }
   ],
   "source": [
    "get.edge.attribute(g, \"weight\")"
   ]
  },
  {
   "cell_type": "code",
   "execution_count": 9,
   "metadata": {},
   "outputs": [
    {
     "data": {
      "text/html": [
       "<ol class=list-inline>\n",
       "\t<li>0.692631115904078</li>\n",
       "\t<li>0.294744384475052</li>\n",
       "</ol>\n"
      ],
      "text/latex": [
       "\\begin{enumerate*}\n",
       "\\item 0.692631115904078\n",
       "\\item 0.294744384475052\n",
       "\\end{enumerate*}\n"
      ],
      "text/markdown": [
       "1. 0.692631115904078\n",
       "2. 0.294744384475052\n",
       "\n",
       "\n"
      ],
      "text/plain": [
       "[1] 0.6926311 0.2947444"
      ]
     },
     "metadata": {},
     "output_type": "display_data"
    }
   ],
   "source": [
    "get.edge.attribute(g, \"weight\",c(8,9))"
   ]
  },
  {
   "cell_type": "code",
   "execution_count": 7,
   "metadata": {},
   "outputs": [
    {
     "data": {
      "text/html": [
       "8"
      ],
      "text/latex": [
       "8"
      ],
      "text/markdown": [
       "8"
      ],
      "text/plain": [
       "[1] 8"
      ]
     },
     "metadata": {},
     "output_type": "display_data"
    }
   ],
   "source": [
    "get.edge.ids(g, c(8,9), directed = TRUE, error = FALSE, multi = FALSE)"
   ]
  },
  {
   "cell_type": "code",
   "execution_count": 10,
   "metadata": {},
   "outputs": [
    {
     "data": {
      "text/html": [
       "<ol class=list-inline>\n",
       "\t<li>3</li>\n",
       "\t<li>4</li>\n",
       "\t<li>4</li>\n",
       "\t<li>5</li>\n",
       "\t<li>5</li>\n",
       "</ol>\n"
      ],
      "text/latex": [
       "\\begin{enumerate*}\n",
       "\\item 3\n",
       "\\item 4\n",
       "\\item 4\n",
       "\\item 5\n",
       "\\item 5\n",
       "\\end{enumerate*}\n"
      ],
      "text/markdown": [
       "1. 3\n",
       "2. 4\n",
       "3. 4\n",
       "4. 5\n",
       "5. 5\n",
       "\n",
       "\n"
      ],
      "text/plain": [
       "[1] 3 4 4 5 5"
      ]
     },
     "metadata": {},
     "output_type": "display_data"
    }
   ],
   "source": [
    "a=c(3,4,5,2,1,4,5,1,1)\n",
    "tail(sort(a),5)"
   ]
  },
  {
   "cell_type": "code",
   "execution_count": 17,
   "metadata": {},
   "outputs": [],
   "source": [
    "a<-ends(g,6, names = TRUE)"
   ]
  },
  {
   "cell_type": "code",
   "execution_count": 18,
   "metadata": {},
   "outputs": [
    {
     "data": {
      "text/html": [
       "'double'"
      ],
      "text/latex": [
       "'double'"
      ],
      "text/markdown": [
       "'double'"
      ],
      "text/plain": [
       "[1] \"double\""
      ]
     },
     "metadata": {},
     "output_type": "display_data"
    }
   ],
   "source": [
    "typeof(a)"
   ]
  },
  {
   "cell_type": "code",
   "execution_count": 20,
   "metadata": {},
   "outputs": [
    {
     "data": {
      "text/html": [
       "<table>\n",
       "<tbody>\n",
       "\t<tr><td>6</td><td>7</td></tr>\n",
       "</tbody>\n",
       "</table>\n"
      ],
      "text/latex": [
       "\\begin{tabular}{ll}\n",
       "\t 6 & 7\\\\\n",
       "\\end{tabular}\n"
      ],
      "text/markdown": [
       "\n",
       "| 6 | 7 | \n",
       "\n",
       "\n"
      ],
      "text/plain": [
       "     [,1] [,2]\n",
       "[1,] 6    7   "
      ]
     },
     "metadata": {},
     "output_type": "display_data"
    }
   ],
   "source": [
    "a"
   ]
  },
  {
   "cell_type": "code",
   "execution_count": null,
   "metadata": {},
   "outputs": [],
   "source": []
  }
 ],
 "metadata": {
  "kernelspec": {
   "display_name": "R",
   "language": "R",
   "name": "ir"
  },
  "language_info": {
   "codemirror_mode": "r",
   "file_extension": ".r",
   "mimetype": "text/x-r-source",
   "name": "R",
   "pygments_lexer": "r",
   "version": "3.4.3"
  }
 },
 "nbformat": 4,
 "nbformat_minor": 2
}
