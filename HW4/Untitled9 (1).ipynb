{
 "cells": [
  {
   "cell_type": "code",
   "execution_count": 14,
   "metadata": {},
   "outputs": [
    {
     "name": "stdout",
     "output_type": "stream",
     "text": [
      "start processing actor data\n",
      "Done!\n",
      "Only 74599 actors left in the dataset\n",
      "start processing actress data\n",
      "Done!\n",
      "Only 113133 actors and actress left in the dataset\n"
     ]
    }
   ],
   "source": [
    "import codecs\n",
    "\n",
    "\n",
    "writeout = open(\"merge_movies.txt\",\"w\" )\n",
    "#actor = open(\"/Users/lindu/Desktop/Spring 2017 Classes/EE232E Graphs Mining/Project2/project_2_data/actor_movies.txt\")\n",
    "#actress = open(\"/Users/lindu/Desktop/Spring 2017 Classes/EE232E Graphs Mining/Project2/project_2_data/actress_movies.txt\")\n",
    "id = 0\n",
    "print(\"start processing actor data\")\n",
    "# always break down due to a unicodeparseerror at 1920 lines in actor file, so have to throw a exception for this case\n",
    "with open ('actor_movies.txt') as actor:\n",
    "\t#con = actor.read()\n",
    "\t#newactor = con.decode('gbk', 'ignore')\n",
    "\tfor line in actor.readlines():\n",
    "\t# for each line, split by \"\\t\\t\", word is a list\n",
    "\t\t#line = line[:-1]\n",
    "\t\tword = line.split(\"\\t\\t\")\n",
    "\t\tif len(word) < 11:\n",
    "\t\t\tcontinue\n",
    "\t\twriteout.write(str(id))\n",
    "\t\tid = id + 1\n",
    "\t# for word list, loop except the first item, which is actor/actress name\n",
    "\t\tfor i in word[1:]:\n",
    "\t\t# only preserve movie name and year\n",
    "\t\t\tend = i.find(\")\")\n",
    "\t\t\ti = i[:end+1]\n",
    "\t\t\ti = i.strip()\n",
    "\t\t\tif str(i): \n",
    "\t\t\t\twriteout.write(\"\\t\\t\")\n",
    "\t\t\t\twriteout.write(str(i))\n",
    "\t# jump to next line\n",
    "\t\twriteout.write(\"\\n\")\n",
    "print(\"Done!\"+\"\\n\"+\"Only %d actors left in the dataset\" % (id+1))\n",
    "# processing actress\n",
    "print(\"start processing actress data\")\n",
    "with open('actress_movies.txt') as actress:\n",
    "\t#con = actress.read()\n",
    "\t#newactress = con.decode('gbk', 'ignore')\n",
    "\tfor line in actress.readlines():\n",
    "\t# for each line, split by \"\\t\\t\", word is a list\n",
    "\t\t#line = line[:-1]\n",
    "\t\tword = line.split(\"\\t\\t\")\n",
    "\t\tif len(word) < 11:\n",
    "\t\t\tcontinue\n",
    "\t\twriteout.write(str(id))\n",
    "\t\tid = id + 1\n",
    "\t# for word list, loop except the first item, which is actor/actress name\n",
    "\t\tfor i in word[1:]:\n",
    "\t\t# only preserve movie name and year\n",
    "\t\t\tend = i.find(\")\")\n",
    "\t\t\ti = i[:end+1]\n",
    "\t\t\ti = i.strip()\n",
    "\t\t\tif str(i): \n",
    "\t\t\t\twriteout.write(\"\\t\\t\")\n",
    "\t\t\t\twriteout.write(str(i))\n",
    "\t# jump to next line\n",
    "\t\twriteout.write(\"\\n\")\n",
    "# Don't forget to close the writeout stream\n",
    "writeout.close()\n",
    "print(\"Done!\"+\"\\n\"+\"Only %d actors and actress left in the dataset\" % (id+1))\n",
    "\n",
    "\n",
    "\n",
    "### log \n",
    "# start processing actor data\n",
    "# Done!\n",
    "# Only 74599 actors left in the dataset\n",
    "# start processing actress data\n",
    "# Done!\n",
    "# Only 113133 actors and actress left in the dataset\n",
    "\n",
    "\n",
    "### format:\n",
    "# {act_id}\\t\\t{movie1}\\t\\t{movie2}\\t\\t...{movie10}...\n",
    "# at least 10 movies for each actor/actress"
   ]
  },
  {
   "cell_type": "code",
   "execution_count": 15,
   "metadata": {},
   "outputs": [
    {
     "name": "stdout",
     "output_type": "stream",
     "text": [
      "['\\xe1 R\\xf3gvu, Rosa', 'Bye Bye Blue Bird (1999)  \\n']\n"
     ]
    }
   ],
   "source": [
    "print(word)"
   ]
  },
  {
   "cell_type": "code",
   "execution_count": 11,
   "metadata": {},
   "outputs": [
    {
     "name": "stdout",
     "output_type": "stream",
     "text": [
      "start processing id_movie dict\n",
      "id_movie dict done!\n",
      "start processing movie_id dict\n",
      "movie_id dict done!\n",
      "start processing edge_weight\n",
      "edge_weight dict done!Producing 34265805 weighted edges\n",
      "all done!\n"
     ]
    }
   ],
   "source": [
    "edgefile = open(\"edge_weight.txt\", \"w\")\n",
    "\n",
    "# part one: construct three dicts\n",
    "\n",
    "# id_name = dict()\n",
    "id_movie = dict()\n",
    "movie_id = dict()\n",
    "\n",
    "# print(\"start processing id_name dict\")\n",
    "# with open('/Users/lindu/Desktop/Spring 2017 Classes/EE232E Graphs Mining/Project2/project_2_data/id_actors.txt') as idactors:\n",
    "#     for line in idactors.readlines():\n",
    "#         word = line.split(\"\\t\\t\")\n",
    "#         # don't need to check duplicate items\n",
    "#         id_name[word[0]] = word[1]\n",
    "# print(\"id_name dict done!\")\n",
    "\n",
    "with open('merge_movies.txt') as idmovie:\n",
    "    print(\"start processing id_movie dict\")\n",
    "    for line in idmovie.readlines():\n",
    "        word = line.split(\"\\t\\t\")\n",
    "        for movie in word[1:]:\n",
    "            # word[0] is id, note in id_movie, movie is value\n",
    "            if word[0] not in id_movie:\n",
    "                id_movie[word[0]] = list()\n",
    "                id_movie[word[0]].append(movie)\n",
    "            else:\n",
    "                id_movie[word[0]].append(movie)\n",
    "    print(\"id_movie dict done!\")\n",
    "\n",
    "with open('merge_movies.txt') as movieid:\n",
    "    print(\"start processing movie_id dict\")\n",
    "    for line in movieid.readlines():\n",
    "        word = line.split(\"\\t\\t\")\n",
    "        for movie in word[1:]:\n",
    "            # word[0] is id, note in movie_id, id is value\n",
    "            if movie not in movie_id:\n",
    "                movie_id[movie] = list()\n",
    "                movie_id[movie].append(word[0])\n",
    "            else:\n",
    "                movie_id[movie].append(word[0])\n",
    "    print(\"movie_id dict done!\")\n",
    "\n",
    "# for i in movie_id:\n",
    "#     if len(movie_id[i]) == 0:\n",
    "#         print(i)\n",
    "# exit()\n",
    "\n",
    "print(\"start processing edge_weight\")\n",
    "\n",
    "# part two: construct edge_weight file\n",
    "edge_number = 0\n",
    "# i is the actor, j is i's movies, k is other actors in j\n",
    "# project2 spec not excluded self pointing\n",
    "for i in id_movie:\n",
    "    i_weight = dict() # i_weight: {k: [temp, i_k_weight]}\n",
    "    iweight = len(id_movie[i])\n",
    "    for j in id_movie[i]:\n",
    "            for k in movie_id[j]:\n",
    "                if k not in i_weight:\n",
    "                    edge_number += 1\n",
    "                    i_weight[k] = list()\n",
    "                    i_weight[k].append(1)\n",
    "                    weight = float(1)/int(iweight)\n",
    "                    i_weight[k].append(weight)\n",
    "                else:\n",
    "                    i_weight[k][0] += 1\n",
    "                    weight = float(i_weight[k][1])/int(iweight)\n",
    "                    i_weight[k][1] = weight\n",
    "    for item in i_weight:\n",
    "        weight = str(i_weight[item][1])\n",
    "        weight = weight.strip()\n",
    "        if str(i) and str(item) and weight:\n",
    "            edgefile.write(str(i)+\"\\t\\t\"+str(item)+\"\\t\\t\"+weight+\"\\n\")# jump to another line\n",
    "        else:\n",
    "            continue\n",
    "        # edgefile.write(\"\\n\")\n",
    "edgefile.close()\n",
    "print(\"edge_weight dict done!\" + \"Producing %d weighted edges\" % (edge_number))\n",
    "\n",
    "\n",
    "print(\"all done!\")\n"
   ]
  },
  {
   "cell_type": "code",
   "execution_count": 16,
   "metadata": {},
   "outputs": [
    {
     "data": {
      "text/plain": [
       "503877"
      ]
     },
     "execution_count": 16,
     "metadata": {},
     "output_type": "execute_result"
    }
   ],
   "source": [
    "\n",
    "len(movie_id)"
   ]
  },
  {
   "cell_type": "code",
   "execution_count": 17,
   "metadata": {},
   "outputs": [
    {
     "data": {
      "text/plain": [
       "'Sveitabr\\xfa\\xf0kaup (2008)'"
      ]
     },
     "execution_count": 17,
     "metadata": {},
     "output_type": "execute_result"
    }
   ],
   "source": [
    "i"
   ]
  },
  {
   "cell_type": "code",
   "execution_count": 18,
   "metadata": {},
   "outputs": [
    {
     "data": {
      "text/plain": [
       "'103090'"
      ]
     },
     "execution_count": 18,
     "metadata": {},
     "output_type": "execute_result"
    }
   ],
   "source": [
    "item"
   ]
  },
  {
   "cell_type": "code",
   "execution_count": null,
   "metadata": {},
   "outputs": [],
   "source": []
  }
 ],
 "metadata": {
  "kernelspec": {
   "display_name": "Python 3",
   "language": "python",
   "name": "python3"
  },
  "language_info": {
   "codemirror_mode": {
    "name": "ipython",
    "version": 3
   },
   "file_extension": ".py",
   "mimetype": "text/x-python",
   "name": "python",
   "nbconvert_exporter": "python",
   "pygments_lexer": "ipython3",
   "version": "3.6.4"
  }
 },
 "nbformat": 4,
 "nbformat_minor": 2
}
